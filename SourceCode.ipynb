{
  "nbformat": 4,
  "nbformat_minor": 0,
  "metadata": {
    "colab": {
      "name": "CNNRegression.ipynb",
      "provenance": [],
      "collapsed_sections": [],
      "toc_visible": true
    },
    "kernelspec": {
      "name": "python3",
      "display_name": "Python 3"
    },
    "accelerator": "GPU"
  },
  "cells": [
    {
      "cell_type": "code",
      "metadata": {
        "id": "9zzJHjYbxFtG",
        "colab_type": "code",
        "outputId": "911fabb9-fd84-41cd-8533-c11144f4ffc3",
        "colab": {
          "base_uri": "https://localhost:8080/",
          "height": 62
        }
      },
      "source": [
        "import tensorflow as tf\n",
        "from tensorflow import keras\n",
        "import numpy as np"
      ],
      "execution_count": 1,
      "outputs": [
        {
          "output_type": "display_data",
          "data": {
            "text/html": [
              "<p style=\"color: red;\">\n",
              "The default version of TensorFlow in Colab will soon switch to TensorFlow 2.x.<br>\n",
              "We recommend you <a href=\"https://www.tensorflow.org/guide/migrate\" target=\"_blank\">upgrade</a> now \n",
              "or ensure your notebook will continue to use TensorFlow 1.x via the <code>%tensorflow_version 1.x</code> magic:\n",
              "<a href=\"https://colab.research.google.com/notebooks/tensorflow_version.ipynb\" target=\"_blank\">more info</a>.</p>\n"
            ],
            "text/plain": [
              "<IPython.core.display.HTML object>"
            ]
          },
          "metadata": {
            "tags": []
          }
        }
      ]
    },
    {
      "cell_type": "code",
      "metadata": {
        "id": "TOLOo_c1xVLQ",
        "colab_type": "code",
        "outputId": "d0d041ac-0717-4fd4-f63b-b5776fd50a13",
        "colab": {
          "base_uri": "https://localhost:8080/",
          "height": 151
        }
      },
      "source": [
        "data = keras.datasets.fashion_mnist\n",
        "(tx,ty) , (testx,testy) = data.load_data()"
      ],
      "execution_count": 2,
      "outputs": [
        {
          "output_type": "stream",
          "text": [
            "Downloading data from https://storage.googleapis.com/tensorflow/tf-keras-datasets/train-labels-idx1-ubyte.gz\n",
            "32768/29515 [=================================] - 0s 0us/step\n",
            "Downloading data from https://storage.googleapis.com/tensorflow/tf-keras-datasets/train-images-idx3-ubyte.gz\n",
            "26427392/26421880 [==============================] - 0s 0us/step\n",
            "Downloading data from https://storage.googleapis.com/tensorflow/tf-keras-datasets/t10k-labels-idx1-ubyte.gz\n",
            "8192/5148 [===============================================] - 0s 0us/step\n",
            "Downloading data from https://storage.googleapis.com/tensorflow/tf-keras-datasets/t10k-images-idx3-ubyte.gz\n",
            "4423680/4422102 [==============================] - 0s 0us/step\n"
          ],
          "name": "stdout"
        }
      ]
    },
    {
      "cell_type": "code",
      "metadata": {
        "id": "MFn_XnOUxs4g",
        "colab_type": "code",
        "colab": {}
      },
      "source": [
        "import pandas as pd\n",
        "\n",
        "#get the train/test split package from skelearn for preparing our dataset to train and test the model with\n",
        "from sklearn.model_selection import train_test_split\n",
        "\n",
        "#Import the numpy library to work with and manipulate the data\n",
        "import numpy as np"
      ],
      "execution_count": 0,
      "outputs": []
    },
    {
      "cell_type": "markdown",
      "metadata": {
        "id": "TkQNuwehpaSu",
        "colab_type": "text"
      },
      "source": [
        "# New Section"
      ]
    },
    {
      "cell_type": "code",
      "metadata": {
        "id": "kWkhHqcsrqVn",
        "colab_type": "code",
        "outputId": "da6f2604-bc67-4640-8cf5-bdd1a1ef0836",
        "colab": {
          "base_uri": "https://localhost:8080/",
          "height": 212
        }
      },
      "source": [
        "dataset = pd.read_csv('/content/dataset.csv')\n",
        "\n",
        "dataset = dataset.dropna()\n",
        "\n",
        "print('first rows:')\n",
        "dataset.head()"
      ],
      "execution_count": 4,
      "outputs": [
        {
          "output_type": "stream",
          "text": [
            "first rows:\n"
          ],
          "name": "stdout"
        },
        {
          "output_type": "execute_result",
          "data": {
            "text/html": [
              "<div>\n",
              "<style scoped>\n",
              "    .dataframe tbody tr th:only-of-type {\n",
              "        vertical-align: middle;\n",
              "    }\n",
              "\n",
              "    .dataframe tbody tr th {\n",
              "        vertical-align: top;\n",
              "    }\n",
              "\n",
              "    .dataframe thead th {\n",
              "        text-align: right;\n",
              "    }\n",
              "</style>\n",
              "<table border=\"1\" class=\"dataframe\">\n",
              "  <thead>\n",
              "    <tr style=\"text-align: right;\">\n",
              "      <th></th>\n",
              "      <th>longitude</th>\n",
              "      <th>latitude</th>\n",
              "      <th>m_age</th>\n",
              "      <th>total_rooms</th>\n",
              "      <th>total_bedrooms</th>\n",
              "      <th>population</th>\n",
              "      <th>households</th>\n",
              "      <th>median_income</th>\n",
              "      <th>median_house_val</th>\n",
              "      <th>y</th>\n",
              "    </tr>\n",
              "  </thead>\n",
              "  <tbody>\n",
              "    <tr>\n",
              "      <th>0</th>\n",
              "      <td>-122.23</td>\n",
              "      <td>37.88</td>\n",
              "      <td>41</td>\n",
              "      <td>880</td>\n",
              "      <td>129.0</td>\n",
              "      <td>322</td>\n",
              "      <td>126</td>\n",
              "      <td>8.3252</td>\n",
              "      <td>452600</td>\n",
              "      <td>NEAR BAY</td>\n",
              "    </tr>\n",
              "    <tr>\n",
              "      <th>1</th>\n",
              "      <td>-122.22</td>\n",
              "      <td>37.86</td>\n",
              "      <td>21</td>\n",
              "      <td>7099</td>\n",
              "      <td>1106.0</td>\n",
              "      <td>2401</td>\n",
              "      <td>1138</td>\n",
              "      <td>8.3014</td>\n",
              "      <td>358500</td>\n",
              "      <td>NEAR BAY</td>\n",
              "    </tr>\n",
              "    <tr>\n",
              "      <th>2</th>\n",
              "      <td>-122.24</td>\n",
              "      <td>37.85</td>\n",
              "      <td>52</td>\n",
              "      <td>1467</td>\n",
              "      <td>190.0</td>\n",
              "      <td>496</td>\n",
              "      <td>177</td>\n",
              "      <td>7.2574</td>\n",
              "      <td>352100</td>\n",
              "      <td>NEAR BAY</td>\n",
              "    </tr>\n",
              "    <tr>\n",
              "      <th>3</th>\n",
              "      <td>-122.25</td>\n",
              "      <td>37.85</td>\n",
              "      <td>52</td>\n",
              "      <td>1274</td>\n",
              "      <td>235.0</td>\n",
              "      <td>558</td>\n",
              "      <td>219</td>\n",
              "      <td>5.6431</td>\n",
              "      <td>341300</td>\n",
              "      <td>NEAR BAY</td>\n",
              "    </tr>\n",
              "    <tr>\n",
              "      <th>4</th>\n",
              "      <td>-122.25</td>\n",
              "      <td>37.85</td>\n",
              "      <td>52</td>\n",
              "      <td>1627</td>\n",
              "      <td>280.0</td>\n",
              "      <td>565</td>\n",
              "      <td>259</td>\n",
              "      <td>3.8462</td>\n",
              "      <td>342200</td>\n",
              "      <td>NEAR BAY</td>\n",
              "    </tr>\n",
              "  </tbody>\n",
              "</table>\n",
              "</div>"
            ],
            "text/plain": [
              "   longitude  latitude  m_age  ...  median_income  median_house_val         y\n",
              "0    -122.23     37.88     41  ...         8.3252            452600  NEAR BAY\n",
              "1    -122.22     37.86     21  ...         8.3014            358500  NEAR BAY\n",
              "2    -122.24     37.85     52  ...         7.2574            352100  NEAR BAY\n",
              "3    -122.25     37.85     52  ...         5.6431            341300  NEAR BAY\n",
              "4    -122.25     37.85     52  ...         3.8462            342200  NEAR BAY\n",
              "\n",
              "[5 rows x 10 columns]"
            ]
          },
          "metadata": {
            "tags": []
          },
          "execution_count": 4
        }
      ]
    },
    {
      "cell_type": "code",
      "metadata": {
        "id": "6FkAVt5oLMKG",
        "colab_type": "code",
        "outputId": "f4ef5c08-33c8-4020-9a39-02ad366c4cf5",
        "colab": {
          "base_uri": "https://localhost:8080/",
          "height": 293
        }
      },
      "source": [
        "import matplotlib.pyplot as plt\n",
        "columns = dataset.columns.drop(['y'])\n",
        "rows = dataset.head(20)\n",
        "fig, ax = plt.subplots(nrows=10, ncols=1)\n",
        "data = range(0,rows.shape[0])\n",
        "index=0\n",
        "# Plot the feature subplots for given housing dataset\n",
        "# Each feature will be having a seperate subplot\n",
        "print('California Housing')\n",
        "for column in columns:\n",
        "  ax[index].plot(data, rows[column], label=column)\n",
        "  ax[index].legend()\n",
        "  index=index+1\n"
      ],
      "execution_count": 6,
      "outputs": [
        {
          "output_type": "stream",
          "text": [
            "California Housing\n"
          ],
          "name": "stdout"
        },
        {
          "output_type": "display_data",
          "data": {
            "image/png": "[encoded data removed]",
            "text/plain": [
              "<Figure size 432x288 with 10 Axes>"
            ]
          },
          "metadata": {
            "tags": []
          }
        }
      ]
    },
    {
      "cell_type": "markdown",
      "metadata": {
        "id": "dOUvsAcuEJfo",
        "colab_type": "text"
      },
      "source": [
        "# New Section"
      ]
    },
    {
      "cell_type": "code",
      "metadata": {
        "id": "sAJguA9xsMa2",
        "colab_type": "code",
        "colab": {}
      },
      "source": [
        "import sklearn\n",
        "\n",
        "\n",
        "#will predict the median house value column\n",
        "Y = dataset['median_house_val']\n",
        "\n",
        "#selecting from longitude column to median column\n",
        "X= dataset.loc[:,'longitude':'median_income']\n",
        "\n",
        "#X = sklearn.preprocessing.normalize(X)\n",
        "\n",
        "#spliting the dataset into training and testing\n",
        "x_train, x_test, y_train, y_test = train_test_split(X,Y,test_size = 0.3)\n",
        "\n",
        "#converting the datasets into numpy arrays to work with our Pytorch model\n",
        "x_train_np = x_train.to_numpy()\n",
        "y_train_np = y_train.to_numpy()\n",
        "\n",
        "#converting the testing datasets into numpy arrays\n",
        "x_test_np = x_test.to_numpy()\n",
        "y_test_np = y_test.to_numpy()"
      ],
      "execution_count": 0,
      "outputs": []
    },
    {
      "cell_type": "code",
      "metadata": {
        "id": "vOJTKKdOt2HB",
        "colab_type": "code",
        "colab": {}
      },
      "source": [
        "import torch\n",
        "\n",
        "#import the 1D convolution layer since it is tabular data or sequence data\n",
        "from torch.nn import Conv1d\n",
        "\n",
        "#import the max pooling layer\n",
        "from torch.nn import MaxPool1d\n",
        "\n",
        "#import the flatten layer\n",
        "from torch.nn import Flatten\n",
        "\n",
        "#import the linear layer\n",
        "from torch.nn import Linear\n",
        "\n",
        "#import the relu activation function\n",
        "from torch.nn.functional import relu\n",
        "\n",
        "#import the relu activation function\n",
        "from torch.nn import BatchNorm1d\n",
        "\n",
        "\n",
        "#import the dataloader and tensordataset libraries from pytorch to work with out datasets\n",
        "#dataloader will take tensor dataset as ip and out the batch size\n",
        "from torch.utils.data import DataLoader, TensorDataset"
      ],
      "execution_count": 0,
      "outputs": []
    },
    {
      "cell_type": "code",
      "metadata": {
        "id": "ZI2XUcREvD7Q",
        "colab_type": "code",
        "colab": {}
      },
      "source": [
        "\n",
        "\n",
        "# passing module will help us use the parameters\n",
        "class CnnRegressor(torch.nn.Module):\n",
        "\n",
        "  def __init__(self, batch_size,inputs,outputs):\n",
        "    super(CnnRegressor,self).__init__()\n",
        "    self.batch_size = batch_size\n",
        "    self.inputs = inputs\n",
        "    self.outputs = outputs\n",
        "\n",
        "    self.input_layer = Conv1d(inputs,batch_size,1)\n",
        "    self.batch_normalization = BatchNorm1d(batch_size)\n",
        "    self.max_pooling_layer = MaxPool1d(1)\n",
        "\n",
        "    self.conv_layer = Conv1d(batch_size,128,1)\n",
        "    self.batch_normalization2 = BatchNorm1d(128)\n",
        "    self.max_pooling_layer2 = MaxPool1d(1)\n",
        "\n",
        "\n",
        "    self.flatten_layer = Flatten()\n",
        " \n",
        "    #define a linear layer (ips,opts)\n",
        "    self.linear_layer = Linear(128,64)\n",
        "\n",
        "    #define the output layer\n",
        "    self.output_layer = Linear(64,outputs)\n",
        "\n",
        "  def feed(self,input):\n",
        "    input = input.reshape((self.batch_size,self.inputs,1))\n",
        "\n",
        "    output = relu(self.batch_normalization(self.input_layer(input)))\n",
        "\n",
        "    output = self.max_pooling_layer(output)\n",
        "\n",
        "    output = relu(self.batch_normalization2(self.conv_layer(output)))\n",
        "\n",
        "    output = self.flatten_layer(output)\n",
        "\n",
        "    output = self.linear_layer(output)\n",
        "\n",
        "    output = self.output_layer(output)\n",
        "    return output\n",
        "\n",
        "\n"
      ],
      "execution_count": 0,
      "outputs": []
    },
    {
      "cell_type": "code",
      "metadata": {
        "id": "_T_ieQV2yJk1",
        "colab_type": "code",
        "outputId": "8b6d2fda-2603-46d4-d1e3-12770a9e3106",
        "colab": {
          "base_uri": "https://localhost:8080/",
          "height": 138
        }
      },
      "source": [
        "from torch.optim import  SGD\n",
        "\n",
        "from torch.nn import L1Loss\n",
        "\n",
        "!pip install pytorch.ignite\n",
        "from ignite.contrib.metrics.regression.r2_score import R2Score"
      ],
      "execution_count": 10,
      "outputs": [
        {
          "output_type": "stream",
          "text": [
            "Collecting pytorch.ignite\n",
            "\u001b[?25l  Downloading https://files.pythonhosted.org/packages/35/55/41e8a995876fd2ade29bdba0c3efefa38e7d605cb353c70f3173c04928b5/pytorch_ignite-0.3.0-py2.py3-none-any.whl (103kB)\n",
            "\r\u001b[K     |███▏                            | 10kB 24.5MB/s eta 0:00:01\r\u001b[K     |██████▎                         | 20kB 3.2MB/s eta 0:00:01\r\u001b[K     |█████████▌                      | 30kB 4.7MB/s eta 0:00:01\r\u001b[K     |████████████▋                   | 40kB 3.1MB/s eta 0:00:01\r\u001b[K     |███████████████▉                | 51kB 3.8MB/s eta 0:00:01\r\u001b[K     |███████████████████             | 61kB 4.5MB/s eta 0:00:01\r\u001b[K     |██████████████████████▏         | 71kB 5.2MB/s eta 0:00:01\r\u001b[K     |█████████████████████████▎      | 81kB 5.8MB/s eta 0:00:01\r\u001b[K     |████████████████████████████▍   | 92kB 6.5MB/s eta 0:00:01\r\u001b[K     |███████████████████████████████▋| 102kB 5.1MB/s eta 0:00:01\r\u001b[K     |████████████████████████████████| 112kB 5.1MB/s \n",
            "\u001b[?25hRequirement already satisfied: torch in /usr/local/lib/python3.6/dist-packages (from pytorch.ignite) (1.4.0)\n",
            "Installing collected packages: pytorch.ignite\n",
            "Successfully installed pytorch.ignite\n"
          ],
          "name": "stdout"
        }
      ]
    },
    {
      "cell_type": "code",
      "metadata": {
        "id": "K8icytXjygP0",
        "colab_type": "code",
        "outputId": "cd77efcf-d9aa-4ecc-f3cb-3dc23f6891cf",
        "colab": {
          "base_uri": "https://localhost:8080/",
          "height": 202
        }
      },
      "source": [
        "batch_size = 64\n",
        "\n",
        "model = CnnRegressor(batch_size,X.shape[1],1)\n",
        "\n",
        "model.cuda()"
      ],
      "execution_count": 11,
      "outputs": [
        {
          "output_type": "execute_result",
          "data": {
            "text/plain": [
              "CnnRegressor(\n",
              "  (input_layer): Conv1d(8, 64, kernel_size=(1,), stride=(1,))\n",
              "  (batch_normalization): BatchNorm1d(64, eps=1e-05, momentum=0.1, affine=True, track_running_stats=True)\n",
              "  (max_pooling_layer): MaxPool1d(kernel_size=1, stride=1, padding=0, dilation=1, ceil_mode=False)\n",
              "  (conv_layer): Conv1d(64, 128, kernel_size=(1,), stride=(1,))\n",
              "  (batch_normalization2): BatchNorm1d(128, eps=1e-05, momentum=0.1, affine=True, track_running_stats=True)\n",
              "  (max_pooling_layer2): MaxPool1d(kernel_size=1, stride=1, padding=0, dilation=1, ceil_mode=False)\n",
              "  (flatten_layer): Flatten()\n",
              "  (linear_layer): Linear(in_features=128, out_features=64, bias=True)\n",
              "  (output_layer): Linear(in_features=64, out_features=1, bias=True)\n",
              ")"
            ]
          },
          "metadata": {
            "tags": []
          },
          "execution_count": 11
        }
      ]
    },
    {
      "cell_type": "code",
      "metadata": {
        "id": "QnXcGQ3d1oPN",
        "colab_type": "code",
        "colab": {}
      },
      "source": [
        "\n",
        "def model_loss(model,dataset,train = False, optimizer = None):\n",
        "  performance = L1Loss()\n",
        "  score_metric = R2Score()\n",
        "  avg_loss = 0\n",
        "  avg_score = 0\n",
        "  count = 0\n",
        "\n",
        "  for input,output in iter(dataset):\n",
        "    predictions = model.feed(input)\n",
        "\n",
        "    loss = performance(predictions,output)\n",
        "\n",
        "    score_metric.update([predictions,output])\n",
        "    score = score_metric.compute()\n",
        "\n",
        "    if(train):\n",
        "      #clear any errors so they dont cummulate\n",
        "      optimizer.zero_grad()\n",
        "\n",
        "      loss.backward()\n",
        "\n",
        "      #use the optimizer to update the models parameters based on the gradients\n",
        "      optimizer.step()\n",
        "\n",
        "    avg_loss += loss.item()\n",
        "    avg_score += score\n",
        "    count += 1\n",
        "\n",
        "  return avg_loss/count, avg_score/count\n",
        "\n"
      ],
      "execution_count": 0,
      "outputs": []
    },
    {
      "cell_type": "code",
      "metadata": {
        "id": "P2ZqpRr23iVt",
        "colab_type": "code",
        "colab": {}
      },
      "source": [
        "epochs = 500\n",
        "\n",
        "optimizer = torch.optim.Adam(model.parameters(), lr=0.0001)\n",
        "\n",
        "inputs = torch.from_numpy(x_train_np).cuda().float()\n",
        "outputs = torch.from_numpy(y_train_np.reshape(y_train_np.shape[0], 1)).cuda().float()\n",
        "\n",
        "tensor = TensorDataset(inputs,outputs)\n",
        "loader = DataLoader(tensor, batch_size, shuffle=True, drop_last=True)\n",
        "\n",
        "for epoch in range(epochs):\n",
        "  avg_loss, avg_r2_score = model_loss(model, loader, train=True, optimizer=optimizer)\n",
        "\n",
        "  print(\"Epoch \" + str(epoch+1) + \":\\n\\tLoss = \" + str(avg_loss) + \"\\n\\tR2 score = \" + str(avg_r2_score))"
      ],
      "execution_count": 0,
      "outputs": []
    },
    {
      "cell_type": "code",
      "metadata": {
        "id": "a6QWXvf66ty8",
        "colab_type": "code",
        "outputId": "657d888c-27b8-48f0-b20e-738a3e65623b",
        "colab": {
          "base_uri": "https://localhost:8080/",
          "height": 50
        }
      },
      "source": [
        "inputs = torch.from_numpy(x_test_np).cuda().float()\n",
        "outputs = torch.from_numpy(y_test_np.reshape(y_test_np.shape[0], 1)).cuda().float()\n",
        "\n",
        "tensor = TensorDataset(inputs,outputs)\n",
        "loader = DataLoader(tensor, batch_size, shuffle=True, drop_last=True)\n",
        "\n",
        "#output the average performance of the model\n",
        "avg_loss, avg_r2_score = model_loss(model,loader)\n",
        "print(\"the model's L1 loss is \" + str(avg_loss))\n",
        "print(\"the model's R2 score is \" + str(avg_r2_score))"
      ],
      "execution_count": 14,
      "outputs": [
        {
          "output_type": "stream",
          "text": [
            "the model's L1 loss is 56601.42116477273\n",
            "the model's R2 score is 0.6570957535971829\n"
          ],
          "name": "stdout"
        }
      ]
    },
    {
      "cell_type": "code",
      "metadata": {
        "id": "Hwmn0da5OOPk",
        "colab_type": "code",
        "colab": {
          "base_uri": "https://localhost:8080/",
          "height": 70
        },
        "outputId": "37cadf51-afa7-4a94-e21d-1530d606c53a"
      },
      "source": [
        "trainedmodel = {'model': CnnRegressor(64,8,1),\n",
        "          'state_dict': model.state_dict(),\n",
        "          'optimizer' : optimizer.state_dict()}\n",
        "torch.save(trainedmodel, '1102484_1dconv_reg')"
      ],
      "execution_count": 18,
      "outputs": [
        {
          "output_type": "stream",
          "text": [
            "/usr/local/lib/python3.6/dist-packages/torch/serialization.py:360: UserWarning: Couldn't retrieve source code for container of type CnnRegressor. It won't be checked for correctness upon loading.\n",
            "  \"type \" + obj.__name__ + \". It won't be checked \"\n"
          ],
          "name": "stderr"
        }
      ]
    },
    {
      "cell_type": "markdown",
      "metadata": {
        "id": "cT9Ya44lsBO7",
        "colab_type": "text"
      },
      "source": [
        "# New Section"
      ]
    }
  ]
}